{
 "cells": [
  {
   "cell_type": "markdown",
   "metadata": {},
   "source": [
    "## Template to concatenate multiple CSV's into 1 file.\n",
    "Use codes below and replace information where needed to correspond to each set of CSV files."
   ]
  },
  {
   "cell_type": "code",
   "execution_count": 1,
   "metadata": {},
   "outputs": [],
   "source": [
    "# Importing dependencies.\n",
    "\n",
    "from glob import glob\n",
    "import pandas as pd"
   ]
  },
  {
   "cell_type": "code",
   "execution_count": 2,
   "metadata": {},
   "outputs": [],
   "source": [
    "# Creating a list of all the CSV files.\n",
    "\n",
    "balance_sheet_files = sorted(glob('raw_dataset/filtered_balance_sheet/*filtered_balance_sheet.csv'))\n",
    "balance_sheet_files"
   ]
  },
  {
   "cell_type": "code",
   "execution_count": 3,
   "metadata": {},
   "outputs": [],
   "source": [
    "# Create a dataframe to house all concatenated files.\n",
    "\n",
    "df = pd.concat((pd.read_csv(file).assign(filename = file)\n",
    "          for file in balance_sheet_files), ignore_index = True)\n",
    "df"
   ]
  },
  {
   "cell_type": "code",
   "execution_count": 4,
   "metadata": {},
   "outputs": [],
   "source": [
    "# Dropping unwanted columns seen in the dataframe.\n",
    "\n",
    "cleaned_df = df.drop(['Unnamed: 0','filename'],axis=1)\n",
    "cleaned_df"
   ]
  },
  {
   "cell_type": "code",
   "execution_count": 5,
   "metadata": {},
   "outputs": [],
   "source": [
    "# Count of missing values of the entire dataframe. If any drop.\n",
    "\n",
    "cleaned_df.isnull().sum().sum()"
   ]
  },
  {
   "cell_type": "code",
   "execution_count": 6,
   "metadata": {},
   "outputs": [],
   "source": [
    "# Replacing the None values with 0.\n",
    "\n",
    "balance_sheet_df = cleaned_df.replace('None', 0)\n",
    "balance_sheet_df"
   ]
  },
  {
   "cell_type": "code",
   "execution_count": 7,
   "metadata": {},
   "outputs": [],
   "source": [
    "# Renaming column names - See column headers on each set of CSV files and input inside the {}.\n",
    "\n",
    "balance_sheet_df = balance_sheet_df.rename(columns = {\n",
    "    'SYMBOL': 'symbol',\n",
    "    })\n",
    "balance_sheet_df"
   ]
  },
  {
   "cell_type": "code",
   "execution_count": 8,
   "metadata": {},
   "outputs": [],
   "source": [
    "# Exporting balance_sheet dataframe to csv file without the index.\n",
    "\n",
    "balance_sheet_df.to_csv('raw_dataset/balance_sheet.csv', index = False)"
   ]
  }
 ],
 "metadata": {
  "kernelspec": {
   "display_name": "PythonData",
   "language": "python",
   "name": "pythondata"
  },
  "language_info": {
   "codemirror_mode": {
    "name": "ipython",
    "version": 3
   },
   "file_extension": ".py",
   "mimetype": "text/x-python",
   "name": "python",
   "nbconvert_exporter": "python",
   "pygments_lexer": "ipython3",
   "version": "3.7.7"
  }
 },
 "nbformat": 4,
 "nbformat_minor": 4
}
